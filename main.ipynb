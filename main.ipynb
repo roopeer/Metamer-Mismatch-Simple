{
  "nbformat": 4,
  "nbformat_minor": 0,
  "metadata": {
    "colab": {
      "provenance": []
    },
    "kernelspec": {
      "name": "python3",
      "display_name": "Python 3"
    },
    "language_info": {
      "name": "python"
    }
  },
  "cells": [
    {
      "cell_type": "code",
      "source": [
        "from google.colab import files\n",
        "\n",
        "files.upload()"
      ],
      "metadata": {
        "id": "CQhJP5xwG6jd"
      },
      "execution_count": null,
      "outputs": []
    },
    {
      "cell_type": "code",
      "source": [
        "!pip install colour-science==0.4.2"
      ],
      "metadata": {
        "id": "v3WYbmrvg14A"
      },
      "execution_count": null,
      "outputs": []
    },
    {
      "cell_type": "code",
      "source": [
        "!python3 main.py cie_2012_2 none D65 A"
      ],
      "metadata": {
        "colab": {
          "base_uri": "https://localhost:8080/"
        },
        "id": "px9DkrulVe9o",
        "outputId": "570f9991-9ec0-4fda-a435-26d482a6a499"
      },
      "execution_count": 46,
      "outputs": [
        {
          "output_type": "stream",
          "name": "stdout",
          "text": [
            "/usr/local/lib/python3.9/dist-packages/colour/utilities/verbose.py:266: ColourUsageWarning:\n",
            "\n",
            "The \"CIE 2012 10 Degree Standard Observer\" has been renamed to \"CIE 2015 10 Degree Standard Observer\" for consistency with the official CIE name which was adopted in 2015.\n",
            "\n"
          ]
        }
      ]
    },
    {
      "cell_type": "code",
      "source": [],
      "metadata": {
        "id": "SIndTPqGaQyw"
      },
      "execution_count": null,
      "outputs": []
    }
  ]
}